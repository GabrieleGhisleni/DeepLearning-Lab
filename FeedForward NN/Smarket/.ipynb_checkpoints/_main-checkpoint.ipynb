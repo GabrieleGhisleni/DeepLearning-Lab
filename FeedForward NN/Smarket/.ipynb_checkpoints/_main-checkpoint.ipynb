{
 "cells": [
  {
   "cell_type": "code",
   "execution_count": 22,
   "metadata": {},
   "outputs": [],
   "source": [
    "from sklearn.preprocessing import LabelBinarizer\n",
    "from sklearn.preprocessing import Normalizer, MinMaxScaler\n",
    "from sklearn.pipeline import make_pipeline\n",
    "from dataloader import DatasetHandler\n",
    "from model import  MarketClassifier\n",
    "import tensorflow_docs as tfdocs\n",
    "import tensorflow_docs.modeling\n",
    "import tensorflow_docs.plots\n",
    "from tensorflow import keras\n",
    "import tensorflow as tf\n",
    "import seaborn as sns\n",
    "import pandas as pd\n",
    "import numpy as np"
   ]
  },
  {
   "cell_type": "code",
   "execution_count": 25,
   "metadata": {},
   "outputs": [
    {
     "name": "stdout",
     "output_type": "stream",
     "text": [
      "(array(['Down', 'Up'], dtype=object), array([602, 648], dtype=int64))\n"
     ]
    },
    {
     "data": {
      "text/html": [
       "<div>\n",
       "<style scoped>\n",
       "    .dataframe tbody tr th:only-of-type {\n",
       "        vertical-align: middle;\n",
       "    }\n",
       "\n",
       "    .dataframe tbody tr th {\n",
       "        vertical-align: top;\n",
       "    }\n",
       "\n",
       "    .dataframe thead th {\n",
       "        text-align: right;\n",
       "    }\n",
       "</style>\n",
       "<table border=\"1\" class=\"dataframe\">\n",
       "  <thead>\n",
       "    <tr style=\"text-align: right;\">\n",
       "      <th></th>\n",
       "      <th>Lag1</th>\n",
       "      <th>Lag2</th>\n",
       "      <th>Lag3</th>\n",
       "      <th>Lag4</th>\n",
       "      <th>Lag5</th>\n",
       "      <th>Volume</th>\n",
       "      <th>Today</th>\n",
       "      <th>Direction</th>\n",
       "    </tr>\n",
       "  </thead>\n",
       "  <tbody>\n",
       "    <tr>\n",
       "      <th>0</th>\n",
       "      <td>0.381</td>\n",
       "      <td>-0.192</td>\n",
       "      <td>-2.624</td>\n",
       "      <td>-1.055</td>\n",
       "      <td>5.010</td>\n",
       "      <td>1.1913</td>\n",
       "      <td>0.959</td>\n",
       "      <td>Up</td>\n",
       "    </tr>\n",
       "    <tr>\n",
       "      <th>1</th>\n",
       "      <td>0.959</td>\n",
       "      <td>0.381</td>\n",
       "      <td>-0.192</td>\n",
       "      <td>-2.624</td>\n",
       "      <td>-1.055</td>\n",
       "      <td>1.2965</td>\n",
       "      <td>1.032</td>\n",
       "      <td>Up</td>\n",
       "    </tr>\n",
       "    <tr>\n",
       "      <th>2</th>\n",
       "      <td>1.032</td>\n",
       "      <td>0.959</td>\n",
       "      <td>0.381</td>\n",
       "      <td>-0.192</td>\n",
       "      <td>-2.624</td>\n",
       "      <td>1.4112</td>\n",
       "      <td>-0.623</td>\n",
       "      <td>Down</td>\n",
       "    </tr>\n",
       "  </tbody>\n",
       "</table>\n",
       "</div>"
      ],
      "text/plain": [
       "    Lag1   Lag2   Lag3   Lag4   Lag5  Volume  Today Direction\n",
       "0  0.381 -0.192 -2.624 -1.055  5.010  1.1913  0.959        Up\n",
       "1  0.959  0.381 -0.192 -2.624 -1.055  1.2965  1.032        Up\n",
       "2  1.032  0.959  0.381 -0.192 -2.624  1.4112 -0.623      Down"
      ]
     },
     "execution_count": 25,
     "metadata": {},
     "output_type": "execute_result"
    }
   ],
   "source": [
    "data = pd.read_csv('data/market.csv')\n",
    "data.drop(columns=['Year'], inplace=True)\n",
    "data.dropna(inplace=True)\n",
    "\n",
    "print(np.unique(data.Direction, return_counts=True))\n",
    "data.head(3)"
   ]
  },
  {
   "cell_type": "code",
   "execution_count": 3,
   "metadata": {},
   "outputs": [
    {
     "name": "stdout",
     "output_type": "stream",
     "text": [
      "Number of train record=(1000, 7), test records=(250, 7)\n"
     ]
    }
   ],
   "source": [
    "# Encoding the target y\n",
    "label_binarizer = LabelBinarizer()\n",
    "data.Direction = label_binarizer.fit_transform(data.Direction)\n",
    "\n",
    "# train - test\n",
    "(train_x, train_y, test_x, test_y) = DatasetHandler.create_train_test(data=data, y_col='Direction', sample_fraction=0.8)\n",
    "\n",
    "# Feature scaling\n",
    "scaler = make_pipeline(MinMaxScaler(), Normalizer())\n",
    "train_scal = scaler.fit_transform(train_x)\n",
    "test_scal = scaler.fit_transform(test_x)"
   ]
  },
  {
   "cell_type": "code",
   "execution_count": 7,
   "metadata": {},
   "outputs": [
    {
     "name": "stdout",
     "output_type": "stream",
     "text": [
      "Model: \"market_classifier_3\"\n",
      "_________________________________________________________________\n",
      " Layer (type)                Output Shape              Param #   \n",
      "=================================================================\n",
      " dense_12 (Dense)            multiple                  128       \n",
      "                                                                 \n",
      " dense_13 (Dense)            multiple                  544       \n",
      "                                                                 \n",
      " dense_14 (Dense)            multiple                  528       \n",
      "                                                                 \n",
      " dense_15 (Dense)            multiple                  17        \n",
      "                                                                 \n",
      "=================================================================\n",
      "Total params: 1,217\n",
      "Trainable params: 1,217\n",
      "Non-trainable params: 0\n",
      "_________________________________________________________________\n"
     ]
    }
   ],
   "source": [
    "model = MarketClassifier(input_shape=train_scal.shape)\n",
    "######################## Summary\n",
    "model.build(train_scal.shape)\n",
    "model.summary()"
   ]
  },
  {
   "cell_type": "code",
   "execution_count": 8,
   "metadata": {},
   "outputs": [],
   "source": [
    "METRICS = [\n",
    "      keras.metrics.TruePositives(name='tp'),\n",
    "      keras.metrics.FalsePositives(name='fp'),\n",
    "      keras.metrics.TrueNegatives(name='tn'),\n",
    "      keras.metrics.FalseNegatives(name='fn'), \n",
    "      keras.metrics.BinaryAccuracy(name='accuracy'),\n",
    "      keras.metrics.Precision(name='precision'),\n",
    "      keras.metrics.Recall(name='recall'),\n",
    "      keras.metrics.AUC(name='auc'),\n",
    "      keras.metrics.AUC(name='prc', curve='PR'), # precision-recall curve\n",
    "]\n",
    "\n",
    "optimizer = keras.optimizers.Adam(learning_rate=.001)\n",
    "loss_function = keras.losses.BinaryCrossentropy()\n",
    "\n",
    "model.compile(optimizer=optimizer, loss= loss_function, metrics=METRICS)"
   ]
  },
  {
   "cell_type": "code",
   "execution_count": 11,
   "metadata": {},
   "outputs": [
    {
     "name": "stdout",
     "output_type": "stream",
     "text": [
      "\n",
      "Epoch: 0, accuracy:0.5189,  auc:0.6762,  fn:29.0000,  fp:404.0000,  loss:0.6895,  prc:0.6977,  precision:0.5162,  recall:0.9370,  tn:36.0000,  tp:431.0000,  val_accuracy:0.5700,  val_auc:0.7977,  val_fn:0.0000,  val_fp:43.0000,  val_loss:0.6853,  val_prc:0.8006,  val_precision:0.5426,  val_recall:1.0000,  val_tn:6.0000,  val_tp:51.0000,  \n",
      "....................................................................................................\n",
      "Epoch: 100, accuracy:0.8656,  auc:0.9457,  fn:55.0000,  fp:66.0000,  loss:0.2980,  prc:0.9437,  precision:0.8599,  recall:0.8804,  tn:374.0000,  tp:405.0000,  val_accuracy:0.9000,  val_auc:0.9716,  val_fn:7.0000,  val_fp:3.0000,  val_loss:0.2394,  val_prc:0.9718,  val_precision:0.9362,  val_recall:0.8627,  val_tn:46.0000,  val_tp:44.0000,  \n",
      "....................................................................................................\n",
      "Epoch: 200, accuracy:0.8722,  auc:0.9496,  fn:57.0000,  fp:58.0000,  loss:0.2862,  prc:0.9494,  precision:0.8742,  recall:0.8761,  tn:382.0000,  tp:403.0000,  val_accuracy:0.9000,  val_auc:0.9734,  val_fn:7.0000,  val_fp:3.0000,  val_loss:0.2308,  val_prc:0.9721,  val_precision:0.9362,  val_recall:0.8627,  val_tn:46.0000,  val_tp:44.0000,  \n",
      "..........................................................................."
     ]
    }
   ],
   "source": [
    "early_stop=tf.keras.callbacks.EarlyStopping( monitor='val_loss', patience=50)\n",
    "\n",
    "history = model.fit(\n",
    "                    x=train_scal,\n",
    "                    y=train_y,\n",
    "                    epochs=1000,\n",
    "                    validation_split = 0.1,\n",
    "                    verbose=0,\n",
    "                    callbacks=[early_stop, tfdocs.modeling.EpochDots()]\n",
    "    )"
   ]
  },
  {
   "cell_type": "code",
   "execution_count": 26,
   "metadata": {},
   "outputs": [
    {
     "name": "stdout",
     "output_type": "stream",
     "text": [
      "8/8 - 0s - loss: 0.3041 - tp: 119.0000 - fp: 15.0000 - tn: 98.0000 - fn: 18.0000 - accuracy: 0.8680 - precision: 0.8881 - recall: 0.8686 - auc: 0.9474 - prc: 0.9579 - 147ms/epoch - 18ms/step\n"
     ]
    },
    {
     "data": {
      "image/png": "[encoded data removed]",
      "text/plain": [
       "<Figure size 432x288 with 1 Axes>"
      ]
     },
     "metadata": {
      "needs_background": "light"
     },
     "output_type": "display_data"
    }
   ],
   "source": [
    "evals = model.evaluate(test_scal,test_y, verbose=2)\n",
    "\n",
    "plot_obj = tfdocs.plots.HistoryPlotter(smoothing_std=2)\n",
    "plot_obj.plot({'Auto MPG': history}, metric = \"precision\",)"
   ]
  },
  {
   "cell_type": "code",
   "execution_count": 27,
   "metadata": {},
   "outputs": [
    {
     "name": "stdout",
     "output_type": "stream",
     "text": [
      "INFO:tensorflow:Assets written to: ClassficationModel\\assets\n"
     ]
    }
   ],
   "source": [
    "model.save(\"ClassficationModel\")\n",
    "# reconstructed_model = tf.keras.models.load_model( 'ClassficationModel' )"
   ]
  }
 ],
 "metadata": {
  "interpreter": {
   "hash": "cffc4546e259ce4f94465d38b6354caec7caf36b3aaba164a55e182bf03ff9d3"
  },
  "kernelspec": {
   "display_name": "Python 3 (ipykernel)",
   "language": "python",
   "name": "python3"
  },
  "language_info": {
   "codemirror_mode": {
    "name": "ipython",
    "version": 3
   },
   "file_extension": ".py",
   "mimetype": "text/x-python",
   "name": "python",
   "nbconvert_exporter": "python",
   "pygments_lexer": "ipython3",
   "version": "3.9.4"
  },
  "toc": {
   "base_numbering": 1,
   "nav_menu": {},
   "number_sections": true,
   "sideBar": true,
   "skip_h1_title": false,
   "title_cell": "Table of Contents",
   "title_sidebar": "Contents",
   "toc_cell": false,
   "toc_position": {},
   "toc_section_display": true,
   "toc_window_display": false
  }
 },
 "nbformat": 4,
 "nbformat_minor": 2
}
